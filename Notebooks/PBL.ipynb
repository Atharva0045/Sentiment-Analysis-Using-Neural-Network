{
 "cells": [
  {
   "cell_type": "code",
   "execution_count": 2,
   "metadata": {},
   "outputs": [],
   "source": [
    "import pandas as pd\n",
    "import numpy as np\n",
    "import matplotlib.pyplot as plt\n",
    "import tensorflow as tf\n",
    "from sklearn.model_selection import train_test_split\n",
    "from sklearn.feature_extraction.text import CountVectorizer\n",
    "from imblearn.over_sampling import SMOTE"
   ]
  },
  {
   "cell_type": "code",
   "execution_count": 18,
   "metadata": {},
   "outputs": [],
   "source": [
    "dataframe = pd.read_excel('\\GitHub\\Sentiment-Analysis-Using-Neural-Network\\Data\\sentiment_data.xlsx')"
   ]
  },
  {
   "cell_type": "code",
   "execution_count": 23,
   "metadata": {},
   "outputs": [
    {
     "data": {
      "text/plain": [
       "(3636, 2)"
      ]
     },
     "execution_count": 23,
     "metadata": {},
     "output_type": "execute_result"
    }
   ],
   "source": [
    "dataframe.shape"
   ]
  },
  {
   "cell_type": "code",
   "execution_count": 24,
   "metadata": {},
   "outputs": [
    {
     "name": "stdout",
     "output_type": "stream",
     "text": [
      "<class 'pandas.core.frame.DataFrame'>\n",
      "RangeIndex: 3636 entries, 0 to 3635\n",
      "Data columns (total 2 columns):\n",
      " #   Column         Non-Null Count  Dtype \n",
      "---  ------         --------------  ----- \n",
      " 0   Sentiment      3636 non-null   object\n",
      " 1   News Headline  3636 non-null   object\n",
      "dtypes: object(2)\n",
      "memory usage: 56.9+ KB\n"
     ]
    }
   ],
   "source": [
    "dataframe.info()"
   ]
  },
  {
   "cell_type": "code",
   "execution_count": 25,
   "metadata": {},
   "outputs": [
    {
     "data": {
      "text/plain": [
       "Sentiment        0\n",
       "News Headline    0\n",
       "dtype: int64"
      ]
     },
     "execution_count": 25,
     "metadata": {},
     "output_type": "execute_result"
    }
   ],
   "source": [
    "dataframe.isnull().sum()"
   ]
  },
  {
   "cell_type": "code",
   "execution_count": 26,
   "metadata": {},
   "outputs": [
    {
     "data": {
      "text/plain": [
       "Sentiment\n",
       "neutral     2159\n",
       "positive    1022\n",
       "negative     455\n",
       "Name: count, dtype: int64"
      ]
     },
     "execution_count": 26,
     "metadata": {},
     "output_type": "execute_result"
    }
   ],
   "source": [
    "dataframe[\"Sentiment\"].value_counts()"
   ]
  },
  {
   "attachments": {},
   "cell_type": "markdown",
   "metadata": {},
   "source": [
    "Labeling the sentiments as 0, 1, 2"
   ]
  },
  {
   "cell_type": "code",
   "execution_count": 27,
   "metadata": {},
   "outputs": [],
   "source": [
    "dataframe.rename(columns={'News Headline': 'Headlines'}, inplace=True)\n",
    "label_mapping = {\"neutral\": 0, \"positive\": 1, \"negative\": 2}\n",
    "dataframe[\"Sentiment\"] = dataframe[\"Sentiment\"].map(label_mapping)"
   ]
  },
  {
   "cell_type": "markdown",
   "metadata": {},
   "source": [
    "Verctorization of Headings"
   ]
  },
  {
   "cell_type": "code",
   "execution_count": 28,
   "metadata": {},
   "outputs": [],
   "source": [
    "# Convert text data to numerical representations using CountVectorizer\n",
    "vectorizer = CountVectorizer()\n",
    "X = vectorizer.fit_transform(dataframe[\"Headlines\"])\n",
    "\n",
    "# Convert sparse matrix to dense array\n",
    "X = X.toarray()"
   ]
  },
  {
   "attachments": {},
   "cell_type": "markdown",
   "metadata": {},
   "source": [
    "Oversampling the Data"
   ]
  },
  {
   "cell_type": "code",
   "execution_count": 29,
   "metadata": {},
   "outputs": [],
   "source": [
    "smote = SMOTE(random_state=42)\n",
    "X_resampled, y_resampled = smote.fit_resample(X, dataframe[\"Sentiment\"])"
   ]
  },
  {
   "cell_type": "code",
   "execution_count": 30,
   "metadata": {},
   "outputs": [
    {
     "data": {
      "text/plain": [
       "Sentiment\n",
       "0    2159\n",
       "1    2159\n",
       "2    2159\n",
       "Name: count, dtype: int64"
      ]
     },
     "execution_count": 30,
     "metadata": {},
     "output_type": "execute_result"
    }
   ],
   "source": [
    "y_resampled.value_counts()"
   ]
  },
  {
   "cell_type": "markdown",
   "metadata": {},
   "source": [
    "Data Splitting"
   ]
  },
  {
   "cell_type": "code",
   "execution_count": 31,
   "metadata": {},
   "outputs": [],
   "source": [
    "X_train, X_test, y_train, y_test = train_test_split(X_resampled, y_resampled, test_size=0.2, random_state=2)"
   ]
  },
  {
   "cell_type": "markdown",
   "metadata": {},
   "source": [
    "Model"
   ]
  },
  {
   "cell_type": "code",
   "execution_count": 32,
   "metadata": {},
   "outputs": [],
   "source": [
    "num_classes = len(label_mapping)\n",
    "nn_model = tf.keras.Sequential([\n",
    "    tf.keras.layers.Dense(128, activation='relu', input_shape=(X_train.shape[1],)),\n",
    "    tf.keras.layers.Dense(64, activation='relu'),\n",
    "    tf.keras.layers.Dense(32, activation='softmax'),\n",
    "\n",
    "    tf.keras.layers.Dense(num_classes, activation='softmax')\n",
    "])"
   ]
  },
  {
   "cell_type": "code",
   "execution_count": 33,
   "metadata": {},
   "outputs": [],
   "source": [
    "nn_model.compile(optimizer=tf.keras.optimizers.Adam(0.001), loss='sparse_categorical_crossentropy', metrics=['accuracy'])"
   ]
  },
  {
   "attachments": {},
   "cell_type": "markdown",
   "metadata": {},
   "source": [
    "History Plotting"
   ]
  },
  {
   "cell_type": "code",
   "execution_count": 34,
   "metadata": {},
   "outputs": [
    {
     "name": "stdout",
     "output_type": "stream",
     "text": [
      "Epoch 1/40\n",
      "65/65 [==============================] - 3s 25ms/step - loss: 1.0577 - accuracy: 0.4609 - val_loss: 0.9791 - val_accuracy: 0.6287\n",
      "Epoch 2/40\n",
      "65/65 [==============================] - 1s 17ms/step - loss: 0.9217 - accuracy: 0.6496 - val_loss: 0.8865 - val_accuracy: 0.6876\n",
      "Epoch 3/40\n",
      "65/65 [==============================] - 1s 17ms/step - loss: 0.8008 - accuracy: 0.7744 - val_loss: 0.8115 - val_accuracy: 0.7338\n",
      "Epoch 4/40\n",
      "65/65 [==============================] - 1s 17ms/step - loss: 0.6902 - accuracy: 0.8468 - val_loss: 0.7901 - val_accuracy: 0.7213\n",
      "Epoch 5/40\n",
      "65/65 [==============================] - 1s 18ms/step - loss: 0.6181 - accuracy: 0.8694 - val_loss: 0.7541 - val_accuracy: 0.7310\n",
      "Epoch 6/40\n",
      "65/65 [==============================] - 1s 17ms/step - loss: 0.5567 - accuracy: 0.8849 - val_loss: 0.7622 - val_accuracy: 0.7232\n",
      "Epoch 7/40\n",
      "65/65 [==============================] - 1s 17ms/step - loss: 0.5157 - accuracy: 0.8909 - val_loss: 0.7329 - val_accuracy: 0.7271\n",
      "Epoch 8/40\n",
      "65/65 [==============================] - 1s 17ms/step - loss: 0.4801 - accuracy: 0.8953 - val_loss: 0.7198 - val_accuracy: 0.7348\n",
      "Epoch 9/40\n",
      "65/65 [==============================] - 1s 18ms/step - loss: 0.4505 - accuracy: 0.9032 - val_loss: 0.7122 - val_accuracy: 0.7454\n",
      "Epoch 10/40\n",
      "65/65 [==============================] - 1s 17ms/step - loss: 0.4155 - accuracy: 0.9143 - val_loss: 0.6963 - val_accuracy: 0.7502\n",
      "Epoch 11/40\n",
      "65/65 [==============================] - 1s 17ms/step - loss: 0.3902 - accuracy: 0.9146 - val_loss: 0.6953 - val_accuracy: 0.7541\n",
      "Epoch 12/40\n",
      "65/65 [==============================] - 1s 17ms/step - loss: 0.3667 - accuracy: 0.9240 - val_loss: 0.6839 - val_accuracy: 0.7551\n",
      "Epoch 13/40\n",
      "65/65 [==============================] - 1s 17ms/step - loss: 0.3492 - accuracy: 0.9235 - val_loss: 0.6898 - val_accuracy: 0.7473\n",
      "Epoch 14/40\n",
      "65/65 [==============================] - 1s 17ms/step - loss: 0.3307 - accuracy: 0.9291 - val_loss: 0.6912 - val_accuracy: 0.7454\n",
      "Epoch 15/40\n",
      "65/65 [==============================] - 1s 17ms/step - loss: 0.3112 - accuracy: 0.9365 - val_loss: 0.6876 - val_accuracy: 0.7637\n",
      "Epoch 16/40\n",
      "65/65 [==============================] - 1s 17ms/step - loss: 0.3011 - accuracy: 0.9305 - val_loss: 0.6917 - val_accuracy: 0.7580\n",
      "Epoch 17/40\n",
      "65/65 [==============================] - 1s 17ms/step - loss: 0.2896 - accuracy: 0.9312 - val_loss: 0.7075 - val_accuracy: 0.7512\n",
      "Epoch 18/40\n",
      "65/65 [==============================] - 1s 17ms/step - loss: 0.2726 - accuracy: 0.9382 - val_loss: 0.7185 - val_accuracy: 0.7483\n",
      "Epoch 19/40\n",
      "65/65 [==============================] - 1s 17ms/step - loss: 0.2622 - accuracy: 0.9411 - val_loss: 0.6911 - val_accuracy: 0.7589\n",
      "Epoch 20/40\n",
      "65/65 [==============================] - 1s 17ms/step - loss: 0.2484 - accuracy: 0.9450 - val_loss: 0.7153 - val_accuracy: 0.7560\n",
      "Epoch 21/40\n",
      "65/65 [==============================] - 1s 17ms/step - loss: 0.2432 - accuracy: 0.9440 - val_loss: 0.7138 - val_accuracy: 0.7560\n",
      "Epoch 22/40\n",
      "65/65 [==============================] - 1s 17ms/step - loss: 0.2317 - accuracy: 0.9476 - val_loss: 0.7325 - val_accuracy: 0.7541\n",
      "Epoch 23/40\n",
      "65/65 [==============================] - 1s 17ms/step - loss: 0.2228 - accuracy: 0.9479 - val_loss: 0.7250 - val_accuracy: 0.7570\n",
      "Epoch 24/40\n",
      "65/65 [==============================] - 1s 17ms/step - loss: 0.2155 - accuracy: 0.9503 - val_loss: 0.7325 - val_accuracy: 0.7589\n",
      "Epoch 25/40\n",
      "65/65 [==============================] - 1s 17ms/step - loss: 0.2088 - accuracy: 0.9503 - val_loss: 0.7405 - val_accuracy: 0.7560\n",
      "Epoch 26/40\n",
      "65/65 [==============================] - 1s 17ms/step - loss: 0.2014 - accuracy: 0.9544 - val_loss: 0.7459 - val_accuracy: 0.7560\n",
      "Epoch 27/40\n",
      "65/65 [==============================] - 1s 17ms/step - loss: 0.1994 - accuracy: 0.9508 - val_loss: 0.7673 - val_accuracy: 0.7522\n",
      "Epoch 28/40\n",
      "65/65 [==============================] - 1s 17ms/step - loss: 0.1951 - accuracy: 0.9505 - val_loss: 0.7561 - val_accuracy: 0.7599\n",
      "Epoch 29/40\n",
      "65/65 [==============================] - 1s 17ms/step - loss: 0.1909 - accuracy: 0.9525 - val_loss: 0.8318 - val_accuracy: 0.7213\n",
      "Epoch 30/40\n",
      "65/65 [==============================] - 1s 17ms/step - loss: 0.1869 - accuracy: 0.9534 - val_loss: 0.7950 - val_accuracy: 0.7493\n",
      "Epoch 31/40\n",
      "65/65 [==============================] - 1s 17ms/step - loss: 0.1815 - accuracy: 0.9542 - val_loss: 0.8054 - val_accuracy: 0.7454\n",
      "Epoch 32/40\n",
      "65/65 [==============================] - 1s 17ms/step - loss: 0.1783 - accuracy: 0.9508 - val_loss: 0.7834 - val_accuracy: 0.7464\n",
      "Epoch 33/40\n",
      "65/65 [==============================] - 1s 17ms/step - loss: 0.1732 - accuracy: 0.9537 - val_loss: 0.7800 - val_accuracy: 0.7454\n",
      "Epoch 34/40\n",
      "65/65 [==============================] - 1s 17ms/step - loss: 0.1768 - accuracy: 0.9510 - val_loss: 0.8180 - val_accuracy: 0.7310\n",
      "Epoch 35/40\n",
      "65/65 [==============================] - 1s 17ms/step - loss: 0.1650 - accuracy: 0.9566 - val_loss: 0.7995 - val_accuracy: 0.7541\n",
      "Epoch 36/40\n",
      "65/65 [==============================] - 1s 17ms/step - loss: 0.1617 - accuracy: 0.9568 - val_loss: 0.8250 - val_accuracy: 0.7435\n",
      "Epoch 37/40\n",
      "65/65 [==============================] - 1s 17ms/step - loss: 0.1612 - accuracy: 0.9568 - val_loss: 0.8055 - val_accuracy: 0.7502\n",
      "Epoch 38/40\n",
      "65/65 [==============================] - 1s 17ms/step - loss: 0.1544 - accuracy: 0.9590 - val_loss: 0.8318 - val_accuracy: 0.7425\n",
      "Epoch 39/40\n",
      "65/65 [==============================] - 1s 17ms/step - loss: 0.1540 - accuracy: 0.9558 - val_loss: 0.8327 - val_accuracy: 0.7464\n",
      "Epoch 40/40\n",
      "65/65 [==============================] - 1s 17ms/step - loss: 0.1536 - accuracy: 0.9568 - val_loss: 0.8232 - val_accuracy: 0.7541\n"
     ]
    }
   ],
   "source": [
    "history = nn_model.fit(X_train, y_train, epochs=40, batch_size=64, validation_split=0.2)"
   ]
  },
  {
   "cell_type": "markdown",
   "metadata": {},
   "source": [
    "Training Results"
   ]
  },
  {
   "cell_type": "code",
   "execution_count": 35,
   "metadata": {},
   "outputs": [
    {
     "name": "stdout",
     "output_type": "stream",
     "text": [
      "41/41 [==============================] - 0s 5ms/step - loss: 0.8351 - accuracy: 0.7523\n",
      "Test Loss: 0.8350586891174316\n",
      "Test Accuracy: 0.7523148059844971\n"
     ]
    },
    {
     "data": {
      "image/png": "[encoded data removed]",
      "text/plain": [
       "<Figure size 640x480 with 1 Axes>"
      ]
     },
     "metadata": {},
     "output_type": "display_data"
    },
    {
     "data": {
      "image/png": "[encoded data removed]",
      "text/plain": [
       "<Figure size 640x480 with 1 Axes>"
      ]
     },
     "metadata": {},
     "output_type": "display_data"
    }
   ],
   "source": [
    "loss, accuracy = nn_model.evaluate(X_test, y_test)\n",
    "print(\"Test Loss:\", loss)\n",
    "print(\"Test Accuracy:\", accuracy)\n",
    "# Plot loss and accuracy\n",
    "plt.plot(history.history['loss'], label='loss')\n",
    "plt.plot(history.history['val_loss'], label='val_loss')\n",
    "plt.xlabel('Epoch')\n",
    "plt.ylabel('Loss')\n",
    "plt.legend()\n",
    "plt.grid(True)\n",
    "plt.show()\n",
    "\n",
    "plt.plot(history.history['accuracy'], label='accuracy')\n",
    "plt.plot(history.history['val_accuracy'], label='val_accuracy')\n",
    "plt.xlabel('Epoch')\n",
    "plt.ylabel('Accuracy')\n",
    "plt.legend()\n",
    "plt.grid(True)\n",
    "plt.show()"
   ]
  },
  {
   "cell_type": "markdown",
   "metadata": {},
   "source": [
    "Model Evaluation"
   ]
  },
  {
   "cell_type": "code",
   "execution_count": 36,
   "metadata": {},
   "outputs": [
    {
     "name": "stdout",
     "output_type": "stream",
     "text": [
      "1/1 [==============================] - 0s 127ms/step\n",
      "1/1 [==============================] - 0s 41ms/step\n",
      "1/1 [==============================] - 0s 43ms/step\n",
      "1/1 [==============================] - 0s 39ms/step\n",
      "1/1 [==============================] - 0s 38ms/step\n",
      "The predicted sentiment for the headline 'Apple's new headquarters are to be built at the San Francisco subway station' is: positive\n",
      "The predicted sentiment for the headline 'A data processing unit collects the data, calculates RVR values and provides the data to users via various interfaces.' is: neutral\n",
      "The predicted sentiment for the headline 'The company is studying the feasibility of focusing most of its processed meat production in the Vantaa facilities and the processing of fresh meat in the Forssa facilities.' is: negative\n",
      "The predicted sentiment for the headline 'A high court in Finland has fined seven local asphalt companies more than   lion ( $ 117 million ) for operating a cartel .' is: neutral\n",
      "The predicted sentiment for the headline 'In addition to Russia, we now seek additional growth in Ukraine.' is: positive\n"
     ]
    }
   ],
   "source": [
    "def preprocess_headline(headline, vectorizer):\n",
    "    # Transform headline into numerical representation using the trained vectorizer\n",
    "    X = vectorizer.transform([headline])\n",
    "    # Convert sparse matrix to dense array\n",
    "    X = X.toarray()\n",
    "    return X\n",
    "\n",
    "# Function to predict sentiment for a single headline\n",
    "def predict_sentiment(headline, model, vectorizer):\n",
    "    # Preprocess headline\n",
    "    X = preprocess_headline(headline, vectorizer)\n",
    "    # Predict sentiment\n",
    "    prediction = model.predict(X)\n",
    "    # Convert prediction to sentiment label\n",
    "    sentiment_labels = [\"neutral\", \"positive\", \"negative\"]\n",
    "    predicted_sentiment = sentiment_labels[np.argmax(prediction)]\n",
    "    return predicted_sentiment\n",
    "\n",
    "headline_input = \"Apple's new headquarters are to be built at the San Francisco subway station\"\n",
    "headline_input2 = \"A data processing unit collects the data, calculates RVR values and provides the data to users via various interfaces.\"\n",
    "headline_input3 = \"The company is studying the feasibility of focusing most of its processed meat production in the Vantaa facilities and the processing of fresh meat in the Forssa facilities.\"\n",
    "headline_input4 = \"A high court in Finland has fined seven local asphalt companies more than   lion ( $ 117 million ) for operating a cartel .\"\n",
    "headline_input5 = \"In addition to Russia, we now seek additional growth in Ukraine.\"\n",
    "\n",
    "\n",
    "predicted_sentiment = predict_sentiment(headline_input, nn_model, vectorizer)\n",
    "predicted_sentiment2 = predict_sentiment(headline_input2, nn_model, vectorizer)\n",
    "predicted_sentiment3 = predict_sentiment(headline_input3, nn_model, vectorizer)\n",
    "predicted_sentiment4 = predict_sentiment(headline_input4, nn_model, vectorizer)\n",
    "predicted_sentiment5 = predict_sentiment(headline_input5, nn_model, vectorizer)\n",
    "\n",
    "# Print the predicted sentiment for the input headline\n",
    "print(f\"The predicted sentiment for the headline '{headline_input}' is: {predicted_sentiment}\")\n",
    "print(f\"The predicted sentiment for the headline '{headline_input2}' is: {predicted_sentiment2}\")\n",
    "print(f\"The predicted sentiment for the headline '{headline_input3}' is: {predicted_sentiment3}\")\n",
    "print(f\"The predicted sentiment for the headline '{headline_input4}' is: {predicted_sentiment4}\")\n",
    "print(f\"The predicted sentiment for the headline '{headline_input5}' is: {predicted_sentiment5}\")"
   ]
  },
  {
   "cell_type": "code",
   "execution_count": 37,
   "metadata": {},
   "outputs": [],
   "source": [
    "import pickle\n",
    "filename = 'savemodel.sav'\n",
    "pickle.dump(nn_model,open(filename,'wb'))"
   ]
  },
  {
   "cell_type": "code",
   "execution_count": 38,
   "metadata": {},
   "outputs": [],
   "source": [
    "vectorizer_filename = 'vectorizer.pkl'\n",
    "pickle.dump(vectorizer, open(vectorizer_filename, 'wb'))"
   ]
  },
  {
   "cell_type": "code",
   "execution_count": 39,
   "metadata": {},
   "outputs": [
    {
     "name": "stderr",
     "output_type": "stream",
     "text": [
      "c:\\Users\\athar\\AppData\\Local\\Programs\\Python\\Python311\\Lib\\site-packages\\keras\\src\\engine\\training.py:3103: UserWarning: You are saving your model as an HDF5 file via `model.save()`. This file format is considered legacy. We recommend using instead the native Keras format, e.g. `model.save('my_model.keras')`.\n",
      "  saving_api.save_model(\n"
     ]
    }
   ],
   "source": [
    "nn_model.save('model.h5')"
   ]
  }
 ],
 "metadata": {
  "kernelspec": {
   "display_name": "Python 3",
   "language": "python",
   "name": "python3"
  },
  "language_info": {
   "codemirror_mode": {
    "name": "ipython",
    "version": 3
   },
   "file_extension": ".py",
   "mimetype": "text/x-python",
   "name": "python",
   "nbconvert_exporter": "python",
   "pygments_lexer": "ipython3",
   "version": "3.11.6"
  }
 },
 "nbformat": 4,
 "nbformat_minor": 2
}
